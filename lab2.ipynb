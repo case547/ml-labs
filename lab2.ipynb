{
 "cells": [
  {
   "cell_type": "markdown",
   "metadata": {},
   "source": [
    "# Lab 2 - Feedforward Network and Backpropagation\n",
    "\n",
    "Objectives:\n",
    "1. *Understand backpropagation*\n",
    "2. *Write a neural network with one or more hidden layers*\n",
    "3. *Solve the XOR*\n",
    "4. *Understand how to build general classifiers*\n",
    "\n",
    "During the previous lab we noticed that a single neuron is not able to solve a non-linearly separable problem like the XOR. In this class we will expand the capabilities of our initial network, will move beyond a single neuron and we will solve arbitrarily complex datasets."
   ]
  },
  {
   "cell_type": "markdown",
   "metadata": {},
   "source": [
    "## XOR Network\n",
    "We want to create a network with the following structure:\n",
    "\n",
    "<center><img src=\"https://i.imgur.com/wEtR8Jg.png\" height=\"250\"></center>\n",
    "\n",
    "$$s = \\vec{w}^T\\vec{x}+b$$\n",
    "$$\\sigma(s) = \\frac{1}{1+e^{-s}}$$"
   ]
  },
  {
   "cell_type": "code",
   "execution_count": 2,
   "metadata": {},
   "outputs": [],
   "source": [
    "# Start by importing the library Numpy\n",
    "import numpy as np\n",
    "\n",
    "# Create training set.\n",
    "X = np.random.randint(2, size=[50,2])\n",
    "Z = np.array([X[:,0] ^ X[:, 1]]).T\n",
    "\n",
    "# Modify the way weights and bases are initialised\n",
    "W1 = np.random.randn(3,2)\n",
    "B1 = np.random.randn(3)\n",
    "W2 = np.random.randn(1,3)\n",
    "B2 = np.random.randn(1)"
   ]
  },
  {
   "cell_type": "markdown",
   "metadata": {},
   "source": [
    "*Can you explain why we set the dimensions of the weights as (3,2) and (1,3)?*\n",
    "\n",
    "`W1` is the matrix of weights for the first layer, which has 3 neurons, each with 2 inputs. `W2` is the matrix of weights for the second layer, containing only 1 neuron that has 3 inputs."
   ]
  },
  {
   "cell_type": "code",
   "execution_count": 3,
   "metadata": {},
   "outputs": [],
   "source": [
    "# Add a forward function to reflect the network topology that we want to replicate\n",
    "\n",
    "def sigm(X, W, B):\n",
    "    M = 1/(1+np.exp(-(X.dot(W.T)+B)))\n",
    "    return M\n",
    "\n",
    "def Forward(X, W1, B1, W2, B2):\n",
    "    H = sigm(X,W1,B1) # first layer\n",
    "    Y = sigm(H,W2,B2) # second layer\n",
    "\n",
    "    # Return both final and hidden layer output\n",
    "    return Y, H"
   ]
  },
  {
   "cell_type": "markdown",
   "metadata": {},
   "source": [
    "Due to the presence of the hidden layer, we need to use the backpropagation algorithm to update the weights.\n",
    "\n",
    "$$E = (z-y)^2 \\\\[0.5em]\n",
    "w_i^\\prime = w_i + \\eta\\frac{dE}{dw_i} \\\\[0.5em]\n",
    "b^\\prime = b+\\eta\\frac{dE}{db}\n",
    "$$\n",
    "\n",
    "where $z$ is the correct output, $y$ is the current output of the neuron and $\\eta$ is the learning rate."
   ]
  },
  {
   "cell_type": "markdown",
   "metadata": {},
   "source": [
    "*Try and derive an analytical expression for the update of the weights.*\n",
    "\n",
    "$s = w_{2,1}h_1 + w_{2,2}h_2 + w_{2,3}h_3 + b_2$\n",
    "\n",
    "For the second layer: let $y$ = $\\sigma(s)$\n",
    "\n",
    "- First working out `diff_W2`\n",
    "\n",
    "\\begin{split}\n",
    "    \\frac{dE}{dw_{2,i}}\n",
    "    &= \\frac{\\partial E}{\\partial y} * \\frac{\\partial y}{\\partial s} * \\frac{\\partial s}{\\partial w_{2,i}} \\\\\n",
    "    &= -2(z-y) *  y(1-y) * x_{2,i} \\\\\n",
    "    &= -2(z-y) *  y(1-y) * h_i\n",
    "\\end{split}\n",
    "\n",
    "- Then `diff_B2`\n",
    "\n",
    "\\begin{split}\n",
    "    \\frac{dE}{db_2}\n",
    "    &= \\frac{\\partial E}{\\partial y} * \\frac{\\partial y}{\\partial s} * \\frac{\\partial s}{\\partial b_2} \\\\\n",
    "    &= -2(z-y) * y(1-y) * 1\n",
    "\\end{split}\n",
    "\n",
    "For the first layer: current neuron output now becomes $h_i = \\sigma(\\bar{h}_i)$\n",
    "\n",
    "- Deriving `diff_W1`\n",
    "\n",
    "$$\\frac{dE}{dw_{1,i}}\n",
    "= \\frac{\\partial E}{\\partial \\bar{h}_i} * \\frac{\\partial \\bar{h}_i}{\\partial w_{1,1}}\n",
    "= \\frac{\\partial E}{\\partial \\bar{h}_i} * x_{1,i}$$\n",
    "\n",
    "$$\\frac{\\partial E}{\\partial \\bar{h}_i}\n",
    "= \\frac{\\partial E}{\\partial h_i} * \\frac{\\partial h_i}{\\partial \\bar{h}_i}\n",
    "= \\frac{\\partial E}{\\partial h_i} *  h_i(1-h_i)$$\n",
    "\n",
    "$$\\frac{\\partial E}{\\partial h_i}\n",
    "= \\frac{\\partial E}{\\partial s} * \\frac{\\partial s}{\\partial h_i}\n",
    "= \\frac{\\partial E}{\\partial s} * w_{2,i}$$\n",
    "\n",
    "$$\\frac{\\partial E}{\\partial s} = \\frac{\\partial E}{\\partial y} * \\frac{\\partial y}{\\partial s} = -2(z-y)*y(1-y)$$\n",
    "\n",
    "-   - Plugging everything back in gives\n",
    "\n",
    "$$\\frac{dE}{dw_{1,i}} = x_{1,i} * -2(z-y) * w_{2,i} * y(1-y) * h_i(1-h_i)$$\n",
    "\n",
    "- Deriving `diff_B1`\n",
    "\n",
    "$$\\frac{dE}{db_1} = \\frac{dE}{dw_{1,i}} \\div x_{1,i} = -2(z-y) * w_{2,i} * y(1-y) * h_i(1-h_i)$$"
   ]
  },
  {
   "cell_type": "code",
   "execution_count": 4,
   "metadata": {},
   "outputs": [],
   "source": [
    "# Write the code for the updates of the various parameters\n",
    "\n",
    "def diff_B2(Z, Y):\n",
    "    dB = (Z-Y)*Y*(1-Y)\n",
    "    return dB.sum(axis=0)\n",
    "\n",
    "def diff_W2(H, Z, Y): \n",
    "    dW = (Z-Y)*Y*(1-Y)\n",
    "    return H.T.dot(dW)\n",
    "\n",
    "def diff_W1(X, H, Z, Y, W2):\n",
    "    dZ = (Z-Y).dot(W2)*Y*(1-Y)*H*(1-H)\n",
    "    return X.T.dot(dZ)\n",
    "\n",
    "def diff_B1(Z, Y, W2, H):\n",
    "    return ((Z-Y).dot(W2)*Y*(1-Y)*H*(1-H)).sum(axis=0)"
   ]
  },
  {
   "cell_type": "code",
   "execution_count": 7,
   "metadata": {},
   "outputs": [
    {
     "data": {
      "image/png": "[encoded data removed]",
      "text/plain": [
       "<Figure size 360x360 with 1 Axes>"
      ]
     },
     "metadata": {
      "needs_background": "light"
     },
     "output_type": "display_data"
    }
   ],
   "source": [
    "import matplotlib.pyplot as plt\n",
    "\n",
    "learning_rate = 0.01\n",
    "acc_val = []\n",
    "\n",
    "num_epochs = 10000\n",
    "\n",
    "for epoch in range(num_epochs):\n",
    "    Y, H = Forward(X, W1, B1, W2, B2)\n",
    "    \n",
    "    # Notice that we are not making use of the sigmoid function inside the update rules.\n",
    "    # Instead, we feed them the outputs from the middle layer (H, in this specific example).\n",
    "    \n",
    "    W2 += learning_rate * diff_W2(H, Z, Y).T\n",
    "    B2 += learning_rate * diff_B2(Z, Y)\n",
    "    W1 += learning_rate * diff_W1(X, H, Z, Y, W2).T\n",
    "    B1 += learning_rate * diff_B1(Z, Y, W2, H)\n",
    "\n",
    "    accuracy = 1 - np.mean((Z - Y)**2)\n",
    "    acc_val += [accuracy]\n",
    "\n",
    "fig, ax1 = plt.subplots(1,1,figsize=(5,5))\n",
    "fig.suptitle('The XOR Problem', fontsize=16)\n",
    "\n",
    "ax1.plot(acc_val)\n",
    "ax1.set_xlabel('Epoch')\n",
    "ax1.set_ylabel('Value')\n",
    "ax1.set_title('Accuracy')\n",
    "\n",
    "fig.tight_layout()\n",
    "plt.show()"
   ]
  },
  {
   "cell_type": "code",
   "execution_count": 9,
   "metadata": {},
   "outputs": [
    {
     "name": "stdout",
     "output_type": "stream",
     "text": [
      "Testing accuracy: 0.9993265920168757\n"
     ]
    }
   ],
   "source": [
    "# Testing\n",
    "X_Test = np.random.randint(2, size=[50,2])\n",
    "Z_Test = np.array([X_Test[:,0] ^ X_Test[:, 1]]).T\n",
    "Y_Test, H = Forward(X_Test, W1, B1, W2, B2)\n",
    "\n",
    "test_acc = 1 - np.mean((Z_Test - Y_Test)**2)\n",
    "\n",
    "print(f'Testing accuracy: {test_acc}')"
   ]
  },
  {
   "cell_type": "markdown",
   "metadata": {},
   "source": [
    "## Classifiers\n",
    "\n",
    "Let’s take a look at a different activation and error function, normally used for classifiers: the softmax and the cross-entropy function.\n",
    "\n",
    "Suppose our training data was made by two different sets:\n",
    "- A) 2 points sampled according to a uniform distribution in the range [0,5];\n",
    "- B) 2 points sampled according to a uniform distribution in the range [0,10]."
   ]
  },
  {
   "cell_type": "code",
   "execution_count": 2,
   "metadata": {},
   "outputs": [],
   "source": [
    "import numpy as np\n",
    "\n",
    "# X is the input, Y represents the expected output\n",
    "X = np.vstack([(np.random.rand(1000,2)*5), (np.random.rand(1000,2)*10)])\n",
    "Y = np.hstack([([0]*1000), [1]*1000])"
   ]
  },
  {
   "cell_type": "markdown",
   "metadata": {},
   "source": [
    "We will need to create a network that, given two random points in the interval [0,10], gives as an output the probability of belonging to class A and to class B."
   ]
  },
  {
   "cell_type": "code",
   "execution_count": 3,
   "metadata": {},
   "outputs": [],
   "source": [
    "# Since we want to use a cross-entropy loss function and a softmax activation function,\n",
    "# a one-hot vector (group of bits with only one 1) is more suited than Y for calculations\n",
    "Z = np.zeros((2000,2))\n",
    "\n",
    "# Assign the correct values to Z on the basis of Y\n",
    "for i in range(2000):\n",
    "    Z[i,Y[i]] = 1"
   ]
  },
  {
   "cell_type": "markdown",
   "metadata": {},
   "source": [
    "It is immediately noticeable that this problem does not have a clear-cut answer as the ones we solved before: for example, something like [3.5, 4.2] could, in theory, belong to both classes (but it belongs to one of the two classes with higher probability!).\n",
    "\n",
    "The same thing happens in reality: most often we are not able to distinguish exactly\n",
    "between a number N of classes and what we need is a “best guess”.\n",
    "\n",
    "The classical way of approaching a classification problem, is to make use of the\n",
    "following architecture:\n",
    "\n",
    "<center><img src=\"https://i.imgur.com/g5EDSjk.png\" height=\"300\"></center>\n",
    "\n",
    "where M is the number of neurons in the hidden layer and N the number of classes to classify (2, in this case)."
   ]
  },
  {
   "cell_type": "code",
   "execution_count": 4,
   "metadata": {},
   "outputs": [],
   "source": [
    "# Randomly initialise weights\n",
    "W1 = np.random.randn(3,2)\n",
    "B1 = np.random.randn(3)\n",
    "W2 = np.random.randn(2,3)\n",
    "B2 = np.random.randn(2)"
   ]
  },
  {
   "cell_type": "markdown",
   "metadata": {},
   "source": [
    "The activation function for the output layer is the softmax\n",
    "function\n",
    "\n",
    "$$o_i = f_i(s) = \\frac{e^{s_i}}{\\sum_{j=1}^{N}e^{s_j}}$$"
   ]
  },
  {
   "cell_type": "code",
   "execution_count": 5,
   "metadata": {},
   "outputs": [],
   "source": [
    "def Forward(X, W1, B1, W2, B2):\n",
    "    # First layer\n",
    "    H = 1/(1+np.exp(-(X.dot(W1.T)+B1)))\n",
    "    \n",
    "    # Second layer\n",
    "    A = H.dot(W2.T) + B2\n",
    "    expA = np.exp(A)\n",
    "    \n",
    "    # Use the softmax operator to evaluate our output\n",
    "    output = expA/expA.sum(axis=1, keepdims = True)\n",
    "    \n",
    "    # Return both the final and hidden layer outputs\n",
    "    return output, H\n",
    "\n",
    "\n",
    "def diff_W2(H, Z, output): \n",
    "    return H.T.dot(Z-output)\n",
    "\n",
    "def diff_W1(X, H, Z, output, W2):\n",
    "    dZ = (Z-output).dot(W2)*H*(1-H)\n",
    "    return X.T.dot(dZ)\n",
    "\n",
    "def diff_B2(Z, output):\n",
    "    return (Z-output).sum(axis=0)\n",
    "\n",
    "def diff_B1(Z, output, W2, H):\n",
    "    return ((Z-output).dot(W2)*H*(1-H)).sum(axis=0)"
   ]
  },
  {
   "cell_type": "markdown",
   "metadata": {},
   "source": [
    "The function rescales outputs in the range [0,1] and sets their sum equal to 1, so that the output represents the “probability” that the corresponding input would belong to one of the classes. For instance, a [0.5, 0.5] output would mean that there is an equal chance that the input belongs to class A or to class B. \n",
    "\n",
    "This representation is ideal when the label $z$ is a “one-hot vector”, where there is one logic (the correct class) and all others (N-1) low. For instance, imagine that you were trying to teach a network to\n",
    "distinguish between images of cats and dogs. The correct labels then would be:\n",
    "\n",
    "$$z_{dog} =\n",
    "\\begin{bmatrix}\n",
    "   1 \\\\ 0\n",
    "\\end{bmatrix}\n",
    "\\qquad\n",
    "z_{cat} = \n",
    "\\begin{bmatrix}\n",
    "   0 \\\\ 1\n",
    "\\end{bmatrix}$$\n",
    "\n",
    "Moreover, for this kind of networks, it is customary to make use of the cross-entropy\n",
    "loss as an error function:\n",
    "$$H = -\\sum_{j=1}^N z_j \\log(o_j)$$\n",
    "\n",
    "where $z_j$ represents the j<sup>th</sup> entry of $z$. Cross-entropy loss measures the performance of a classification model whose output is a probability value between 0 and 1, and the error increases as the predicted probability deviates from the actual label. A perfect model would have a loss of 0.\n",
    "\n",
    "For instance, say that in this case with two classes, there is an input that certainly belongs to the second class so that its corresponding output would be [0,1]. If the output of the network is [0.5, 0.5], the error would be:\n",
    "\n",
    "$$H = -0\\log(0.5)-1\\log(0.5) = -\\log(0.5) \\approx 0.693$$\n",
    "\n",
    "Whereas if the output is (0.05, 0.95), much closer to the correct one, the error would be:\n",
    "\n",
    "$$H = -0\\log(0.05)-1\\log(0.95) = -\\log(0.95) \\approx 0.051$$\n",
    "\n",
    "The softmax function and the cross-entropy loss match perfectly one another and it can\n",
    "be shown that\n",
    "\n",
    "$$\\frac{dH}{ds_i} = o_i - z_i$$\n",
    "\n",
    "which makes the expression for the backpropagation, very simple to write."
   ]
  },
  {
   "cell_type": "code",
   "execution_count": 15,
   "metadata": {},
   "outputs": [
    {
     "data": {
      "image/png": "[encoded data removed]",
      "text/plain": [
       "<Figure size 360x360 with 1 Axes>"
      ]
     },
     "metadata": {
      "needs_background": "light"
     },
     "output_type": "display_data"
    }
   ],
   "source": [
    "# Try to modify the code written for the XOR function to solve the previous classification problem\n",
    "import matplotlib.pyplot as plt\n",
    "\n",
    "learning_rate = 0.001\n",
    "err_val = []\n",
    "\n",
    "num_epochs = 5000\n",
    "\n",
    "for epoch in range(num_epochs):\n",
    "    output, H = Forward(X, W1, B1, W2, B2)\n",
    "    \n",
    "    W2 += learning_rate * diff_W2(H, Z, output).T\n",
    "    B2 += learning_rate * diff_B2(Z, output)\n",
    "    W1 += learning_rate * diff_W1(X, H, Z, output, W2).T\n",
    "    B1 += learning_rate * diff_B1(Z, output, W2, H)\n",
    "    \n",
    "    # Cross entropy function\n",
    "    error = np.mean(-(Z*np.log(output)))\n",
    "    err_val += [error]\n",
    "\n",
    "fig, ax1 = plt.subplots(1,1,figsize=(5,5))\n",
    "fig.suptitle('Classifiers', fontsize=16)\n",
    "\n",
    "ax1.plot(err_val)\n",
    "ax1.set_xlabel('Epoch')\n",
    "ax1.set_ylabel('Value')\n",
    "ax1.set_title('Error')\n",
    "\n",
    "fig.tight_layout()\n",
    "plt.show()"
   ]
  },
  {
   "cell_type": "code",
   "execution_count": 27,
   "metadata": {},
   "outputs": [
    {
     "name": "stdout",
     "output_type": "stream",
     "text": [
      "First Test: [0.84400258 0.15599742]\n",
      "Second Test: [4.47269142e-10 1.00000000e+00]\n",
      "Third Test: [0.76656153 0.23343847]\n"
     ]
    }
   ],
   "source": [
    "# We use three points to see if the outcome is the expected one: one point that very likely\n",
    "# belongs to class A, one that surely belongs to class B, and one that might belong to either\n",
    "\n",
    "X_Test1 = 0.01*np.ones([1,2])\n",
    "X_Test2 = 7.5*np.ones([1,2])\n",
    "X_Test3 = 4.5*np.ones([1,2])\n",
    "Y_Test1, H_Test1 = Forward(X_Test1, W1, B1, W2, B2)\n",
    "Y_Test2, H_Test2 = Forward(X_Test2, W1, B1, W2, B2)\n",
    "Y_Test3, H_Test3 = Forward(X_Test3, W1, B1, W2, B2)\n",
    "\n",
    "print(f'First Test: {Y_Test1[0,:]}')\n",
    "print(f'Second Test: {Y_Test2[0,:]}')\n",
    "print(f'Third Test: {Y_Test3[0,:]}')"
   ]
  }
 ],
 "metadata": {
  "interpreter": {
   "hash": "ff39433d367775670857b5a26fe0f62904f7bab0aa1764437f86463c08ac313f"
  },
  "kernelspec": {
   "display_name": "Python 3 (ipykernel)",
   "language": "python",
   "name": "python3"
  },
  "language_info": {
   "codemirror_mode": {
    "name": "ipython",
    "version": 3
   },
   "file_extension": ".py",
   "mimetype": "text/x-python",
   "name": "python",
   "nbconvert_exporter": "python",
   "pygments_lexer": "ipython3",
   "version": "3.9.7"
  }
 },
 "nbformat": 4,
 "nbformat_minor": 4
}
