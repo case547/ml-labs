{
 "cells": [
  {
   "cell_type": "markdown",
   "metadata": {},
   "source": [
    "# Lab 1 -- Neural Networks Basics\n",
    "Learn the basics of neural networks and their underlying principles.\n",
    "\n",
    "Objectives:\n",
    "1. *Understand and code a simple neuron*\n",
    "2. *Understand how a neuron learns*\n",
    "3. *Understand its limitations*"
   ]
  },
  {
   "cell_type": "code",
   "execution_count": 23,
   "metadata": {},
   "outputs": [],
   "source": [
    "# Start by importing the library Numpy.\n",
    "import numpy as np"
   ]
  },
  {
   "cell_type": "markdown",
   "metadata": {},
   "source": [
    "Now, let’s code our first neuron. The structure of a neuron is as follows:\n",
    "\n",
    "<img src=\"https://miro.medium.com/max/1302/1*UA30b0mJUPYoPvN8yJr2iQ.jpeg\" height=\"300\">\n",
    "\n",
    "The function $𝑓(\\cdot)$ represents the core of the neuron. For the time being, let’s consider the sigmoid function:\n",
    "$$\\sigma(x)=\\frac{1}{1+e^{-(w^Tx+b)}}$$\n",
    "where $w = (w_1,w_2,...,w_n)$ and $x = (x_1,x_2,...,x_n)$ represent the $n$-dimensional vectors for the weights and inputs, $b$ is the bias and $(\\cdot)^T$ is the transpose operator."
   ]
  },
  {
   "cell_type": "code",
   "execution_count": 24,
   "metadata": {},
   "outputs": [],
   "source": [
    "# Write the code required to simulate a neuron with 𝑛 = 2, a sigmoid activation function and random weights.\n",
    "\n",
    "W = np.random.randn(1,2) # 1-by-2 array\n",
    "B = np.random.randn(1)\n",
    "\n",
    "def sigm(X, W, B):\n",
    "    M = 1/(1+np.exp(-(X.dot(W.T)+B)))\n",
    "    return M"
   ]
  },
  {
   "cell_type": "markdown",
   "metadata": {},
   "source": [
    "Let’s briefly recall the logical operators. Logical or Boolean, functions are defined as\n",
    "$g:{0,1}^n \\rightarrow {0,1}$. A two dimensional (i.e., $n=2$) logical function would have the form $g(x_1,x_2)=y$ with $x_1,x_2,y \\in {0,1}$.\n",
    "\n",
    "By this point our neuron is not yet able to learn. In order to make our unit smarter, we are going to make use of the gradient descent method to update the weights, depending on the choice of an error function. For this laboratory, we will consider the squared error function.\n",
    "\n",
    "$$E = (y-z)^2 \\\\[0.5em]\n",
    "w_i^\\prime = w_i + \\eta\\frac{dE}{dw_i} \\\\[0.5em]\n",
    "b^\\prime = b+\\eta\\frac{dE}{db}\n",
    "$$\n",
    "\n",
    "where $y$ is the correct output, $z$ is the current output of the neuron and $\\eta$ is the learning rate. The error function is thus a measure of the difference between target ouput and current nerual net prediction. To minimise this, update the weights and biases to new values ($w_i^\\prime, b^\\prime$) using the gradient of $E$ with respect to $w_i$ and $b$."
   ]
  },
  {
   "cell_type": "markdown",
   "metadata": {},
   "source": [
    "**Exercise:** derive an analytical expression for the formulas above, considering that the derivative the sigmoid can be expressed as\n",
    "\n",
    "$$\\frac{d\\sigma(x)}{dx} = \\sigma(x)(1-\\sigma(x))$$"
   ]
  },
  {
   "cell_type": "markdown",
   "metadata": {},
   "source": [
    "Let $u = -(w^Tx+b)$, such that $\\sigma(x) = z = \\frac{1}{1+e^u}$\n",
    "\n",
    "\\begin{split}\n",
    "    \\frac{dE}{dw} \n",
    "    &= \\frac{dE}{dz} * \\frac{dz}{du} * \\frac{\\partial u}{\\partial w} \\\\\n",
    "    &= -2(y-z) * \\left[ \\frac{1}{(e^u+1)^2} - \\frac{1}{e^u+1} \\right] * -x \\\\\n",
    "    &= -2(y-z) * \\frac{1}{e^u+1} \\left( \\frac{1}{e^u+1} - 1 \\right) * -x \\\\\n",
    "    &= -2(y-z) * \\frac{1}{e^u+1} \\left( 1 - \\frac{1}{e^u+1} \\right) * x \\\\\n",
    "    &= -2(y-z) * \\frac{d\\sigma(x)}{dx} * x\n",
    "\\end{split}\n",
    "\n",
    "\\begin{split}\n",
    "    \\frac{dE}{db} \n",
    "    &= \\frac{dE}{dz} * \\frac{dz}{du} * \\frac{\\partial u}{\\partial b} \\\\\n",
    "    &= -2(y-z) * \\left[ \\frac{1}{(e^u+1)^2} - \\frac{1}{e^u+1} \\right] * -1 \\\\\n",
    "    &= -2(y-z) * \\frac{1}{e^u+1} \\left( \\frac{1}{e^u+1} - 1 \\right) * -1 \\\\\n",
    "    &= -2(y-z) * \\frac{1}{e^u+1} \\left( 1 - \\frac{1}{e^u+1} \\right) \\\\\n",
    "    &= -2(y-z) * \\frac{d\\sigma(x)}{dx}\n",
    "\\end{split}"
   ]
  },
  {
   "cell_type": "code",
   "execution_count": 25,
   "metadata": {},
   "outputs": [],
   "source": [
    "# Write functions to calculate the gradients.\n",
    "# Write the update rules for your weights and bias.\n",
    "\n",
    "def diff_W(X, Z, Y, B, W):\n",
    "    dS = sigm(X,W,B)*(1-sigm(X,W,B))\n",
    "    dW = (Y-Z)*dS\n",
    "\n",
    "    return X.T.dot(dW)\n",
    "\n",
    "def diff_B(X, Z, Y, B, W):\n",
    "    dS = sigm(X,W,B)*(1-sigm(X,W,B))\n",
    "    dB = (Y-Z)*dS\n",
    "\n",
    "    return dB.sum(axis=0)"
   ]
  },
  {
   "cell_type": "code",
   "execution_count": 26,
   "metadata": {},
   "outputs": [],
   "source": [
    "# Now the final ingredients to teach our neuron are a training set and a test set.\n",
    "\n",
    "# Create 15 two-dimensional samples and their respective outputs. This will be the set on which we will train our network.\n",
    "X = np.random.randint(2, size=[15,2])\n",
    "Y = np.array([X[:,0] | X[:,1]]).T\n",
    "\n",
    "# Do the same for a testing set. This set will only be used to compute the error of our system.\n",
    "X_Test = np.random.randint(2, size=[15,2])\n",
    "Y_Test = np.array([X_Test[:,0] | X_Test[:,1]]).T"
   ]
  },
  {
   "cell_type": "markdown",
   "metadata": {},
   "source": [
    "*Why is training not performed on the testing set?*\n",
    "\n",
    "The training set is used to find the model's parameters. Meanwhile, the test set is to\n",
    "see how well the model has learned and to detect over-fitting, rather than to have it learn more. This gives an indication of how good the model is."
   ]
  },
  {
   "cell_type": "code",
   "execution_count": 33,
   "metadata": {},
   "outputs": [
    {
     "data": {
      "image/png": "[encoded data removed]",
      "text/plain": [
       "<Figure size 864x360 with 2 Axes>"
      ]
     },
     "metadata": {
      "needs_background": "light"
     },
     "output_type": "display_data"
    }
   ],
   "source": [
    "# Now, we can finally teach the neuron to emulate the OR function.\n",
    "# Set the learning rate to a small number (0.01) and iterate over all the points in the training set, remembering to update the weights, for a large number of epochs.\n",
    "\n",
    "import matplotlib.pyplot as plt\n",
    "\n",
    "learning_rate = 0.01\n",
    "w1_val = []\n",
    "w2_val = []\n",
    "b_val = []\n",
    "error_term = []\n",
    "\n",
    "num_epochs = 500\n",
    "\n",
    "for i in range(num_epochs):\n",
    "    output = sigm(X,W,B)\n",
    "    \n",
    "    W += learning_rate * diff_W(X, output, Y, B, W).T\n",
    "    B += learning_rate * diff_B(X, output, Y, B, W).T\n",
    "\n",
    "    w1_val += [W[0][0]]\n",
    "    w2_val += [W[0][1]]\n",
    "    b_val += [B[0]]\n",
    "\n",
    "fig, (ax1, ax2) = plt.subplots(1,2,figsize=(12,5))\n",
    "\n",
    "ax1.plot(w1_val, label='$w_1$')\n",
    "ax1.plot(w2_val, label='$w_2$')\n",
    "ax1.set_xlabel('Epoch')\n",
    "ax1.set_ylabel('Value')\n",
    "ax1.set_title('Value of Weights')\n",
    "ax1.legend()\n",
    "\n",
    "ax2.plot(b_val)\n",
    "ax2.set_xlabel('Epoch')\n",
    "ax2.set_ylabel('Value')\n",
    "ax2.set_title('Value of $b$')\n",
    "\n",
    "fig.tight_layout()\n",
    "plt.show()"
   ]
  }
 ],
 "metadata": {
  "interpreter": {
   "hash": "ff39433d367775670857b5a26fe0f62904f7bab0aa1764437f86463c08ac313f"
  },
  "kernelspec": {
   "display_name": "Python 3 (ipykernel)",
   "language": "python",
   "name": "python3"
  },
  "language_info": {
   "codemirror_mode": {
    "name": "ipython",
    "version": 3
   },
   "file_extension": ".py",
   "mimetype": "text/x-python",
   "name": "python",
   "nbconvert_exporter": "python",
   "pygments_lexer": "ipython3",
   "version": "3.9.7"
  }
 },
 "nbformat": 4,
 "nbformat_minor": 4
}
