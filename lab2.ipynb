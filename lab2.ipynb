{
 "cells": [
  {
   "cell_type": "markdown",
   "metadata": {},
   "source": [
    "# Lab 2 -- Feedforward Network and Backpropagation\n",
    "\n",
    "Objectives:\n",
    "1. *Understand backpropagation*\n",
    "2. *Write a neural network with one or more hidden layers*\n",
    "3. *Solve the XOR*\n",
    "4. *Understand how to build general classifiers*"
   ]
  },
  {
   "cell_type": "markdown",
   "metadata": {},
   "source": [
    "During the previous lab we noticed that a single neuron is not able to solve a non-linearly separable problem like the XOR. In this class we will expand the capabilities of our initial network, will move beyond a single neuron and we will solve arbitrarily complex datasets.\n",
    "\n",
    "We want to create a network with the following structure:\n",
    "\n",
    "<center><img src=\"https://i.imgur.com/wEtR8Jg.png\" height=\"250\"></center>\n",
    "\n",
    "$$s = \\vec{w}^T\\vec{x}+b$$\n",
    "$$\\sigma(s) = \\frac{1}{1+e^{-s}}$$"
   ]
  },
  {
   "cell_type": "code",
   "execution_count": 74,
   "metadata": {},
   "outputs": [],
   "source": [
    "# Start by importing the library Numpy\n",
    "import numpy as np\n",
    "\n",
    "# Create training set.\n",
    "X = np.random.randint(2, size=[50,2])\n",
    "Z = np.array([X[:,0] ^ X[:, 1]]).T\n",
    "\n",
    "# Modify the way weights and bases are initialised\n",
    "W1 = np.random.randn(3,2)\n",
    "B1 = np.random.randn(3)\n",
    "W2 = np.random.randn(1,3)\n",
    "B2 = np.random.randn(1)"
   ]
  },
  {
   "cell_type": "markdown",
   "metadata": {},
   "source": [
    "*Can you explain why we set the dimensions of the weights as (3,2) and (1,3)?*\n",
    "\n",
    "`W1` is the matrix of weights for the first layer, which has 3 neurons, each with 2 inputs. `W2` is the matrix of weights for the second layer, containing only 1 neuron that has 3 inputs."
   ]
  },
  {
   "cell_type": "code",
   "execution_count": 75,
   "metadata": {},
   "outputs": [],
   "source": [
    "# Add a forward function to reflect the network topology that we want to replicate\n",
    "\n",
    "def sigm(X, W, B):\n",
    "    M = 1/(1+np.exp(-(X.dot(W.T)+B)))\n",
    "    return M\n",
    "\n",
    "def Forward(X, W1, B1, W2, B2):\n",
    "    H = sigm(X,W1,B1) # first layer\n",
    "    Y = sigm(H,W2,B2) # second layer\n",
    "\n",
    "    # Return both final and hidden layer output\n",
    "    return Y, H"
   ]
  },
  {
   "cell_type": "markdown",
   "metadata": {},
   "source": [
    "Due to the presence of the hidden layer, we need to use the backpropagation algorithm to update the weights.\n",
    "\n",
    "$$E = (z-y)^2 \\\\[0.5em]\n",
    "w_i^\\prime = w_i + \\eta\\frac{dE}{dw_i} \\\\[0.5em]\n",
    "b^\\prime = b+\\eta\\frac{dE}{db}\n",
    "$$\n",
    "\n",
    "where $z$ is the correct output, $y$ is the current output of the neuron and $\\eta$ is the learning rate."
   ]
  },
  {
   "cell_type": "markdown",
   "metadata": {},
   "source": [
    "*Try and derive an analytical expression for the update of the weights.*\n",
    "\n",
    "$s = w_{2,1}h_1 + w_{2,2}h_2 + w_{2,3}h_3 + b_2$\n",
    "\n",
    "For the second layer: let $y$ = $\\sigma(s)$\n",
    "\n",
    "- First working out `diff_W2`\n",
    "\n",
    "\\begin{split}\n",
    "    \\frac{dE}{dw_{2,i}}\n",
    "    &= \\frac{\\partial E}{\\partial y} * \\frac{\\partial y}{\\partial s} * \\frac{\\partial s}{\\partial w_{2,i}} \\\\\n",
    "    &= -2(z-y) *  y(1-y) * x_{2,i} \\\\\n",
    "    &= -2(z-y) *  y(1-y) * h_i\n",
    "\\end{split}\n",
    "\n",
    "- Then `diff_B2`\n",
    "\n",
    "\\begin{split}\n",
    "    \\frac{dE}{db_2}\n",
    "    &= \\frac{\\partial E}{\\partial y} * \\frac{\\partial y}{\\partial s} * \\frac{\\partial s}{\\partial b_2} \\\\\n",
    "    &= -2(z-y) * y(1-y) * 1\n",
    "\\end{split}\n",
    "\n",
    "For the first layer: current neuron output now becomes $h_i = \\sigma(\\bar{h}_i)$\n",
    "\n",
    "- Deriving `diff_W1`\n",
    "\n",
    "$$\\frac{dE}{dw_{1,i}}\n",
    "= \\frac{\\partial E}{\\partial \\bar{h}_i} * \\frac{\\partial \\bar{h}_i}{\\partial w_{1,1}}\n",
    "= \\frac{\\partial E}{\\partial \\bar{h}_i} * x_{1,i}$$\n",
    "\n",
    "$$\\frac{\\partial E}{\\partial \\bar{h}_i}\n",
    "= \\frac{\\partial E}{\\partial h_i} * \\frac{\\partial h_i}{\\partial \\bar{h}_i}\n",
    "= \\frac{\\partial E}{\\partial h_i} *  h_i(1-h_i)$$\n",
    "\n",
    "$$\\frac{\\partial E}{\\partial h_i}\n",
    "= \\frac{\\partial E}{\\partial s} * \\frac{\\partial s}{\\partial h_i}\n",
    "= \\frac{\\partial E}{\\partial s} * w_{2,i}$$\n",
    "\n",
    "$$\\frac{\\partial E}{\\partial s} = \\frac{\\partial E}{\\partial y} * \\frac{\\partial y}{\\partial s} = -2(z-y)*y(1-y)$$\n",
    "\n",
    "- Plugging everything back in gives\n",
    "\n",
    "$$\\frac{dE}{dw_{1,i}} = x_{1,i} * -2(z-y) * w_{2,i} * y(1-y) * h_i(1-h_i)$$\n",
    "\n",
    "- Deriving `diff_B1`\n",
    "\n",
    "$$\\frac{dE}{db_1} = \\frac{dE}{dw_{1,i}} \\div x_{1,i} = -2(z-y) * w_{2,i} * y(1-y) * h_i(1-h_i)$$"
   ]
  },
  {
   "cell_type": "code",
   "execution_count": 76,
   "metadata": {},
   "outputs": [],
   "source": [
    "# Write the code for the updates of the various parameters\n",
    "\n",
    "def diff_B2(Z, Y):\n",
    "    dB = (Z-Y)*Y*(1-Y)\n",
    "    return dB.sum(axis=0)\n",
    "\n",
    "def diff_W2(H, Z, Y): \n",
    "    dW = (Z-Y)*Y*(1-Y)\n",
    "    return H.T.dot(dW)\n",
    "\n",
    "def diff_W1(X, H, Z, Y, W2):\n",
    "    dZ = (Z-Y).dot(W2)*Y*(1-Y)*H*(1-H)\n",
    "    return X.T.dot(dZ)\n",
    "\n",
    "def diff_B1(Z, Y, W2, H):\n",
    "    return ((Z-Y).dot(W2)*Y*(1-Y)*H*(1-H)).sum(axis=0)"
   ]
  },
  {
   "cell_type": "code",
   "execution_count": 77,
   "metadata": {},
   "outputs": [
    {
     "data": {
      "image/png": "[encoded data removed]",
      "text/plain": [
       "<Figure size 360x360 with 1 Axes>"
      ]
     },
     "metadata": {
      "needs_background": "light"
     },
     "output_type": "display_data"
    }
   ],
   "source": [
    "import matplotlib.pyplot as plt\n",
    "\n",
    "learning_rate = 0.01\n",
    "acc_val = []\n",
    "\n",
    "num_epochs = 10000\n",
    "\n",
    "for epoch in range(num_epochs):\n",
    "    Y, H = Forward(X, W1, B1, W2, B2)\n",
    "    \n",
    "    # Notice that we are not making use of the sigmoid function inside the update rules.\n",
    "    # Instead, we feed them the outputs from the middle layer (H, in this specific example).\n",
    "    \n",
    "    W2 += learning_rate * diff_W2(H, Z, Y).T\n",
    "    B2 += learning_rate * diff_B2(Z, Y)\n",
    "    W1 += learning_rate * diff_W1(X, H, Z, Y, W2).T\n",
    "    B1 += learning_rate * diff_B1(Z, Y, W2, H)\n",
    "\n",
    "    accuracy = 1 - np.mean((Z - Y)**2)\n",
    "    acc_val += [accuracy]\n",
    "\n",
    "fig, ax1 = plt.subplots(1,1,figsize=(5,5))\n",
    "fig.suptitle('The XOR Problem', fontsize=16)\n",
    "\n",
    "ax1.plot(acc_val)\n",
    "ax1.set_xlabel('Epoch')\n",
    "ax1.set_ylabel('Value')\n",
    "ax1.set_title('Accuracy')\n",
    "\n",
    "fig.tight_layout()\n",
    "plt.show()"
   ]
  }
 ],
 "metadata": {
  "interpreter": {
   "hash": "ff39433d367775670857b5a26fe0f62904f7bab0aa1764437f86463c08ac313f"
  },
  "kernelspec": {
   "display_name": "Python 3 (ipykernel)",
   "language": "python",
   "name": "python3"
  },
  "language_info": {
   "codemirror_mode": {
    "name": "ipython",
    "version": 3
   },
   "file_extension": ".py",
   "mimetype": "text/x-python",
   "name": "python",
   "nbconvert_exporter": "python",
   "pygments_lexer": "ipython3",
   "version": "3.9.7"
  }
 },
 "nbformat": 4,
 "nbformat_minor": 4
}
